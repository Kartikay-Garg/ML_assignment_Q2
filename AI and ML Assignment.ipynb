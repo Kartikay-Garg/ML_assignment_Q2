{
 "cells": [
  {
   "cell_type": "markdown",
   "id": "3e11be61-20ad-4ca9-a946-0abacdbb6c25",
   "metadata": {},
   "source": [
    "1. Could we sum it?\n",
    "Let Ankur has given a large weight W, and a list of smaller weights in an array. He needs to write a\n",
    "code in order to find \"can we form weight W or not, using smaller weights\". He only knows dp\n",
    "solution. Could you write a code solution for him without using dp.\n",
    "Constraint: - list size <= 12\n",
    "Sample Input1: -\n",
    "W = 15\n",
    "list = {4, 3, 5, 6, 4}\n",
    "Output: - True\n",
    "Explanation: -\n",
    "15 =4 + 5 + 6.\n",
    "Sample Input2: -\n",
    "W = 9\n",
    "list = {4, 1, 3, 7}\n",
    "Output: - False.\n",
    "Explanation: - There is no way to sum up 7."
   ]
  },
  {
   "cell_type": "code",
   "execution_count": 1,
   "id": "ae1a34c8-0510-430a-8ef7-bafeb62b631f",
   "metadata": {},
   "outputs": [],
   "source": [
    "def can_we_form_weight(W, weights):\n",
    "    n = len(weights)\n",
    "    if W == 0:\n",
    "        return True\n",
    "    if n == 0 or W < 0:\n",
    "        return False\n",
    "    return can_we_form_weight(W - weights[n-1], weights[:n-1]) or can_we_form_weight(W, weights[:n-1])"
   ]
  },
  {
   "cell_type": "code",
   "execution_count": 2,
   "id": "70ad1b26-547f-4429-b61f-5ae47b6a7ba6",
   "metadata": {},
   "outputs": [
    {
     "name": "stdout",
     "output_type": "stream",
     "text": [
      "True\n"
     ]
    }
   ],
   "source": [
    "W = 15\n",
    "weights = [4, 3, 5, 6, 4]\n",
    "print(can_we_form_weight(W, weights))  "
   ]
  },
  {
   "cell_type": "code",
   "execution_count": 3,
   "id": "efa1d87f-c6a9-4515-817c-b1ea278377a6",
   "metadata": {},
   "outputs": [
    {
     "name": "stdout",
     "output_type": "stream",
     "text": [
      "False\n"
     ]
    }
   ],
   "source": [
    "W = 9\n",
    "weights = [4, 1, 3, 7]\n",
    "print(can_we_form_weight(W, weights)) "
   ]
  },
  {
   "cell_type": "markdown",
   "id": "baae29f9-0a57-4a78-8955-e50bf919af84",
   "metadata": {},
   "source": [
    "# Descriptive Section : "
   ]
  },
  {
   "cell_type": "markdown",
   "id": "5984a3fd-e0de-47e4-9ed3-69223b49eb43",
   "metadata": {},
   "source": [
    "1. How Do You Handle Missing or Corrupted Data in a Dataset?"
   ]
  },
  {
   "cell_type": "markdown",
   "id": "e9d1f679-128a-4c73-b809-acdd40dda5d2",
   "metadata": {},
   "source": [
    "Handling missing or corrupted data in a dataset is one of the most important step while doing data preprocessing and data analysis. \n",
    "Data can be handled by the following ways:\n",
    "1. Identify the missing data.\n",
    "2. Drop missing or corrupted data if the data that is missig is relatively small.\n",
    "3. Replace the missing values using Mean, Median or Mode depending upon the feature type.\n",
    "4. We can also use SimpleImputer and OrdinalEncoder for handling numerical values and categorical values respectively."
   ]
  },
  {
   "cell_type": "markdown",
   "id": "a2c931f5-a30d-450d-95f4-cd246f6beb24",
   "metadata": {},
   "source": [
    "2. What Are the Three Stages of Building a Model in Machine Learning?"
   ]
  },
  {
   "cell_type": "markdown",
   "id": "c095318f-7c05-4e4d-a023-4cb3dfa73146",
   "metadata": {},
   "source": [
    "The 3 Stages of Building a Model in Machine Learning are as follows:\n",
    "\n",
    "1. Data Preprocessing : Data Ingestion, Data Cleaning, Feature Scaling, Data Transformation etc.\n",
    "2. Model Training : Selecting an appropriate algorithm based on the problem type (e.g., classification, regression) and the characteristics of the data. And then train the model accordingly.\n",
    "3. Model Evaluation and Deployment: Once the model is trained, it needs to be evaluated and deployed for real-world use. Deployment can be done in AWS Beanstalk, Azure, AWS EC2 etc."
   ]
  },
  {
   "cell_type": "code",
   "execution_count": null,
   "id": "5dba3be4-0ca9-45ff-baf5-cfcc90cba69a",
   "metadata": {},
   "outputs": [],
   "source": []
  }
 ],
 "metadata": {
  "kernelspec": {
   "display_name": "Python 3 (ipykernel)",
   "language": "python",
   "name": "python3"
  },
  "language_info": {
   "codemirror_mode": {
    "name": "ipython",
    "version": 3
   },
   "file_extension": ".py",
   "mimetype": "text/x-python",
   "name": "python",
   "nbconvert_exporter": "python",
   "pygments_lexer": "ipython3",
   "version": "3.10.6"
  }
 },
 "nbformat": 4,
 "nbformat_minor": 5
}
